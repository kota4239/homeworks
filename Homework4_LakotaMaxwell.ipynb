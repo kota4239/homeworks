{
  "nbformat": 4,
  "nbformat_minor": 0,
  "metadata": {
    "colab": {
      "provenance": [],
      "authorship_tag": "ABX9TyOE1zPQRkGIm3kF7syhpC1g",
      "include_colab_link": true
    },
    "kernelspec": {
      "name": "python3",
      "display_name": "Python 3"
    },
    "language_info": {
      "name": "python"
    }
  },
  "cells": [
    {
      "cell_type": "markdown",
      "metadata": {
        "id": "view-in-github",
        "colab_type": "text"
      },
      "source": [
        "<a href=\"https://colab.research.google.com/github/kota4239/homeworks/blob/main/Homework4_LakotaMaxwell.ipynb\" target=\"_parent\"><img src=\"https://colab.research.google.com/assets/colab-badge.svg\" alt=\"Open In Colab\"/></a>"
      ]
    },
    {
      "cell_type": "code",
      "execution_count": 138,
      "metadata": {
        "id": "UwR77B36o7Ml"
      },
      "outputs": [],
      "source": [
        "# 1\n",
        "fruits=[\"apple\",\"banana\",\"cherry\"]"
      ]
    },
    {
      "cell_type": "code",
      "source": [
        "fruits_tuple=tuple(fruits)"
      ],
      "metadata": {
        "id": "q0NCvyWPpAvt"
      },
      "execution_count": 139,
      "outputs": []
    },
    {
      "cell_type": "code",
      "source": [
        "fruits.append(\"orange\")"
      ],
      "metadata": {
        "id": "lJofrMTVpFna"
      },
      "execution_count": 140,
      "outputs": []
    },
    {
      "cell_type": "code",
      "source": [
        "print(fruits)\n",
        "print(fruits_tuple)"
      ],
      "metadata": {
        "colab": {
          "base_uri": "https://localhost:8080/"
        },
        "id": "5gJoEU27pItC",
        "outputId": "ee0fe227-f720-46ad-98e6-27137cd8e1ea"
      },
      "execution_count": 141,
      "outputs": [
        {
          "output_type": "stream",
          "name": "stdout",
          "text": [
            "['apple', 'banana', 'cherry', 'orange']\n",
            "('apple', 'banana', 'cherry')\n"
          ]
        }
      ]
    },
    {
      "cell_type": "code",
      "source": [
        "# 2\n",
        "person={\"first_name\":\"Lakota\",\"last_name\":\"Maxwell\",\"age\": 22}"
      ],
      "metadata": {
        "id": "2XQ70v3cpOv9"
      },
      "execution_count": 143,
      "outputs": []
    },
    {
      "cell_type": "code",
      "source": [
        "person[\"city\"]=\"Fort Worth\""
      ],
      "metadata": {
        "id": "bAN5NMQLqJKD"
      },
      "execution_count": 144,
      "outputs": []
    },
    {
      "cell_type": "code",
      "source": [
        "print(person.keys())"
      ],
      "metadata": {
        "colab": {
          "base_uri": "https://localhost:8080/"
        },
        "id": "s4qoLdZtqaZP",
        "outputId": "114ca48a-ff34-4b76-bb5e-d53c643b06bb"
      },
      "execution_count": 145,
      "outputs": [
        {
          "output_type": "stream",
          "name": "stdout",
          "text": [
            "dict_keys(['first_name', 'last_name', 'age', 'city'])\n"
          ]
        }
      ]
    },
    {
      "cell_type": "code",
      "source": [
        "# 3\n",
        "colors=[\"red\",\"blue\",\"green\"]"
      ],
      "metadata": {
        "id": "c_m0kCiVqvGY"
      },
      "execution_count": 146,
      "outputs": []
    },
    {
      "cell_type": "code",
      "source": [
        "colors.append(\"yellow\")\n",
        "colors.remove(\"blue\")"
      ],
      "metadata": {
        "id": "twm2G0p8q8pE"
      },
      "execution_count": 147,
      "outputs": []
    },
    {
      "cell_type": "code",
      "source": [
        "print(\"pink\" in colors)"
      ],
      "metadata": {
        "colab": {
          "base_uri": "https://localhost:8080/"
        },
        "id": "wAMt6XblrGNU",
        "outputId": "8e4a26f6-5bea-4369-84f5-3a3aa24a9013"
      },
      "execution_count": 148,
      "outputs": [
        {
          "output_type": "stream",
          "name": "stdout",
          "text": [
            "False\n"
          ]
        }
      ]
    },
    {
      "cell_type": "code",
      "source": [
        "print(colors)"
      ],
      "metadata": {
        "colab": {
          "base_uri": "https://localhost:8080/"
        },
        "id": "IWSJi3TmsCHT",
        "outputId": "6c2557b5-65d6-4026-bb90-026f25d40208"
      },
      "execution_count": 149,
      "outputs": [
        {
          "output_type": "stream",
          "name": "stdout",
          "text": [
            "['red', 'green', 'yellow']\n"
          ]
        }
      ]
    },
    {
      "cell_type": "code",
      "source": [
        "# 4\n",
        "number=int(input(\"enter a number:\"))\n",
        "if(number>0):\n",
        "  print(\"positive\")\n",
        "elif(number<0):\n",
        "  print(\"negative\")\n",
        "else:\n",
        "    print(\"zero\")"
      ],
      "metadata": {
        "colab": {
          "base_uri": "https://localhost:8080/"
        },
        "id": "Zp35iOm7tWyE",
        "outputId": "0657a4a6-0212-4408-8bb9-42fc32fdf2ae"
      },
      "execution_count": 150,
      "outputs": [
        {
          "output_type": "stream",
          "name": "stdout",
          "text": [
            "enter a number:0\n",
            "zero\n"
          ]
        }
      ]
    },
    {
      "cell_type": "code",
      "source": [
        "# 5\n",
        "numbers=[23,45,8,12,78,56,89]"
      ],
      "metadata": {
        "id": "rOSCSkJIu0n0"
      },
      "execution_count": 151,
      "outputs": []
    },
    {
      "cell_type": "code",
      "source": [
        "for even in numbers:\n",
        "  if(even % 2 ==0):\n",
        "    print(even)"
      ],
      "metadata": {
        "colab": {
          "base_uri": "https://localhost:8080/"
        },
        "id": "0YDWmVb5wI8L",
        "outputId": "92664a11-96e3-4016-b676-be63fa57bde0"
      },
      "execution_count": 152,
      "outputs": [
        {
          "output_type": "stream",
          "name": "stdout",
          "text": [
            "8\n",
            "12\n",
            "78\n",
            "56\n"
          ]
        }
      ]
    },
    {
      "cell_type": "code",
      "source": [
        "# 6\n",
        "age=int(input(\"Enter Age:\"))\n",
        "if(age <18):\n",
        "  print(\"You are not eligible to vote.\")\n",
        "if(age >=18):\n",
        "  print(\"You can vote!\")"
      ],
      "metadata": {
        "colab": {
          "base_uri": "https://localhost:8080/"
        },
        "id": "frQncyQww3eZ",
        "outputId": "5054e763-24e6-4268-a3d3-de5c8adb1717"
      },
      "execution_count": 169,
      "outputs": [
        {
          "output_type": "stream",
          "name": "stdout",
          "text": [
            "Enter Age:22\n",
            "You can vote!\n"
          ]
        }
      ]
    },
    {
      "cell_type": "code",
      "source": [
        "# 7\n",
        "Sum=0\n",
        "Loop=input(\"Enter a number:\")\n",
        "while(Loop != \"q\"):\n",
        "  Sum += int(Loop)\n",
        "  Loop=input(\"Enter a number:\")\n",
        "print(Sum)"
      ],
      "metadata": {
        "colab": {
          "base_uri": "https://localhost:8080/"
        },
        "id": "gumE1Edez9lx",
        "outputId": "d73b2d5a-636e-47cb-f68f-a8eefa77c96c"
      },
      "execution_count": 171,
      "outputs": [
        {
          "output_type": "stream",
          "name": "stdout",
          "text": [
            "Enter a number:1\n",
            "Enter a number:2\n",
            "Enter a number:3\n",
            "Enter a number:q\n",
            "6\n"
          ]
        }
      ]
    },
    {
      "cell_type": "code",
      "source": [
        "# 8\n",
        "number=10\n",
        "while number>0:\n",
        "  print(number)\n",
        "  number -= 1\n",
        "print(\"Liftoff!\")"
      ],
      "metadata": {
        "colab": {
          "base_uri": "https://localhost:8080/"
        },
        "id": "4SqL69mJ2HXh",
        "outputId": "3ff4d413-5063-405d-8e1a-6c342d8bab99"
      },
      "execution_count": 174,
      "outputs": [
        {
          "output_type": "stream",
          "name": "stdout",
          "text": [
            "10\n",
            "9\n",
            "8\n",
            "7\n",
            "6\n",
            "5\n",
            "4\n",
            "3\n",
            "2\n",
            "1\n",
            "Liftoff!\n"
          ]
        }
      ]
    },
    {
      "cell_type": "code",
      "source": [
        "# 9\n",
        "number = int(input(\"Enter a Number:\"))\n",
        "second_number=1\n",
        "result= \"\"\n",
        "while(second_number<=10):\n",
        "  result = str(number)+\"*\"+str(second_number)+\"=\"+str(number*second_number)\n",
        "  second_number+=1\n",
        "  print(result)"
      ],
      "metadata": {
        "colab": {
          "base_uri": "https://localhost:8080/"
        },
        "id": "Xxz6vDfx2opX",
        "outputId": "a3c67bef-4aa3-4a55-bcef-acb700182ded"
      },
      "execution_count": 185,
      "outputs": [
        {
          "output_type": "stream",
          "name": "stdout",
          "text": [
            "Enter a Number:22\n",
            "22*1=22\n",
            "22*2=44\n",
            "22*3=66\n",
            "22*4=88\n",
            "22*5=110\n",
            "22*6=132\n",
            "22*7=154\n",
            "22*8=176\n",
            "22*9=198\n",
            "22*10=220\n"
          ]
        }
      ]
    },
    {
      "cell_type": "code",
      "source": [
        "# 10\n",
        "list=[\"apple\",\"banana\",\"cherry\",\"date\"]\n",
        "for fruit in list:\n",
        "  print(fruit)"
      ],
      "metadata": {
        "colab": {
          "base_uri": "https://localhost:8080/"
        },
        "id": "FpmSjX0f3YtG",
        "outputId": "11f45bd3-6646-4c23-8231-1e1d94c9972c"
      },
      "execution_count": 188,
      "outputs": [
        {
          "output_type": "stream",
          "name": "stdout",
          "text": [
            "apple\n",
            "banana\n",
            "cherry\n",
            "date\n"
          ]
        }
      ]
    },
    {
      "cell_type": "code",
      "source": [
        "# 11\n",
        "number=int(input(\"Enter an Integer:\"))\n",
        "factorial=1\n",
        "for x in range(1,number+1):\n",
        "  factorial=factorial*x\n",
        "print(\"Sum:\",factorial)"
      ],
      "metadata": {
        "colab": {
          "base_uri": "https://localhost:8080/"
        },
        "id": "QR_Coq6t6J94",
        "outputId": "ee985684-549f-4cf6-86fa-b58de04fe029"
      },
      "execution_count": 201,
      "outputs": [
        {
          "output_type": "stream",
          "name": "stdout",
          "text": [
            "Enter an Integer:5\n",
            "Sum: 120\n"
          ]
        }
      ]
    },
    {
      "cell_type": "code",
      "source": [
        "# 12\n",
        "a=0\n",
        "for x in range (0,5):\n",
        "  number=int(input(\"Enter an Integer:\"))\n",
        "  a+=number\n",
        "print(\"average:\",a/5)"
      ],
      "metadata": {
        "colab": {
          "base_uri": "https://localhost:8080/"
        },
        "id": "YGpjZHE27Gr4",
        "outputId": "e6be3f4e-82dd-4c5a-c59d-9d5b99ac680f"
      },
      "execution_count": 205,
      "outputs": [
        {
          "output_type": "stream",
          "name": "stdout",
          "text": [
            "Enter an Integer:5\n",
            "Enter an Integer:6\n",
            "Enter an Integer:2\n",
            "Enter an Integer:10\n",
            "Enter an Integer:9\n",
            "average: 6.4\n"
          ]
        }
      ]
    }
  ]
}